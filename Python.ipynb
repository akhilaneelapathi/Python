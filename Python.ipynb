{
 "cells": [
  {
   "cell_type": "markdown",
   "metadata": {},
   "source": [
    "<h3>1: Lists</h3>\n",
    "<b>1) Make a list with the spelled-out number strings ‘one’, ‘two’,\n",
    "‘three’, ‘four’, and ‘five’ in that order and call it myList.</b>"
   ]
  },
  {
   "cell_type": "code",
   "execution_count": 14,
   "metadata": {},
   "outputs": [
    {
     "data": {
      "text/plain": [
       "['one', 'two', 'three', 'four', 'five']"
      ]
     },
     "execution_count": 14,
     "metadata": {},
     "output_type": "execute_result"
    }
   ],
   "source": [
    "myList = [\"one\", \"two\", \"three\", \"four\", \"five\"]\n",
    "myList"
   ]
  },
  {
   "cell_type": "markdown",
   "metadata": {},
   "source": [
    "<b>2) Remove ‘three’ from the list using positional indexing</b>"
   ]
  },
  {
   "cell_type": "code",
   "execution_count": 15,
   "metadata": {},
   "outputs": [
    {
     "data": {
      "text/plain": [
       "['one', 'two', 'four', 'five']"
      ]
     },
     "execution_count": 15,
     "metadata": {},
     "output_type": "execute_result"
    }
   ],
   "source": [
    "myList.pop(2)\n",
    "myList"
   ]
  },
  {
   "cell_type": "markdown",
   "metadata": {},
   "source": [
    "<b>3) Check if ‘four’ is in the list.</b>"
   ]
  },
  {
   "cell_type": "code",
   "execution_count": 16,
   "metadata": {},
   "outputs": [
    {
     "name": "stdout",
     "output_type": "stream",
     "text": [
      "Exist\n"
     ]
    }
   ],
   "source": [
    "if \"four\" in myList:\n",
    "    print(\"Exist\")\n",
    "else:\n",
    "    print(\"Doesn't Exist\")"
   ]
  },
  {
   "cell_type": "markdown",
   "metadata": {},
   "source": [
    "<b>4) Append ‘six’ to the end of the list, then print the length of the\n",
    "list.</b>"
   ]
  },
  {
   "cell_type": "code",
   "execution_count": 17,
   "metadata": {},
   "outputs": [
    {
     "name": "stdout",
     "output_type": "stream",
     "text": [
      "['one', 'two', 'four', 'five', 'six']\n",
      "length of myList is 5\n"
     ]
    }
   ],
   "source": [
    "myList.append(\"six\")\n",
    "print(myList)\n",
    "print(f\"length of myList is {len(myList)}\")"
   ]
  },
  {
   "cell_type": "markdown",
   "metadata": {},
   "source": [
    "<b>5) Print the contents of the list, but also next to each item print\n",
    "the length of the string (e.g. one is 3, four is 4) using a for loop.</b>"
   ]
  },
  {
   "cell_type": "code",
   "execution_count": 18,
   "metadata": {},
   "outputs": [
    {
     "name": "stdout",
     "output_type": "stream",
     "text": [
      "one is 3\n",
      "two is 3\n",
      "four is 4\n",
      "five is 4\n",
      "six is 3\n"
     ]
    }
   ],
   "source": [
    "for i in myList:\n",
    "    print(f\"{i} is {len(i)}\")"
   ]
  },
  {
   "cell_type": "markdown",
   "metadata": {},
   "source": [
    "<b>6) Create a list only of the lengths of the strings and show your\n",
    "result. You can use the loop before to fill the list.</b>"
   ]
  },
  {
   "cell_type": "code",
   "execution_count": 19,
   "metadata": {},
   "outputs": [
    {
     "name": "stdout",
     "output_type": "stream",
     "text": [
      "[3, 3, 4, 4, 3]\n"
     ]
    }
   ],
   "source": [
    "myList_length = [len(i) for i in  myList]\n",
    "print(myList_length)"
   ]
  },
  {
   "cell_type": "markdown",
   "metadata": {},
   "source": [
    "<h3>2: Dictionaries</h3>"
   ]
  },
  {
   "cell_type": "markdown",
   "metadata": {},
   "source": [
    "<b>1) Make a dictionary with the keys be English words as below, and the\n",
    "values be the translation. You can use this language example (German)\n",
    "or choose your own. Note: you need to make sure all of these words\n",
    "are represented as strings, in quotes.</b>\n",
    "<br>\n",
    "<b>apple - Apfel\n",
    "apples - Äpfel\n",
    "I - Ich\n",
    "and - und\n",
    "like - mag\n",
    "strawberries - Erdbeeren</b>"
   ]
  },
  {
   "cell_type": "code",
   "execution_count": 22,
   "metadata": {},
   "outputs": [
    {
     "data": {
      "text/plain": [
       "{'apple': 'Apfel',\n",
       " 'apples': 'Äpfel',\n",
       " 'I': 'Ich',\n",
       " 'and': 'und',\n",
       " 'like': 'mag',\n",
       " 'strawberries': 'Erdbeeren'}"
      ]
     },
     "execution_count": 22,
     "metadata": {},
     "output_type": "execute_result"
    }
   ],
   "source": [
    "translate_dict = {\"apple\":\"Apfel\", \"apples\":\"Äpfel\", \"I\":\"Ich\", \"and\":\"und\", \"like\":\"mag\", \"strawberries\":\"Erdbeeren\"}\n",
    "translate_dict"
   ]
  },
  {
   "cell_type": "markdown",
   "metadata": {},
   "source": [
    "<b>2) Use the dictionary to look up the translation for ‘apple’ and\n",
    "‘like’.</b>"
   ]
  },
  {
   "cell_type": "code",
   "execution_count": 33,
   "metadata": {},
   "outputs": [
    {
     "name": "stdout",
     "output_type": "stream",
     "text": [
      "Apfel\n",
      "mag\n"
     ]
    }
   ],
   "source": [
    "if \"apple\" in translate_dict:\n",
    "    print(translate_dict[\"apple\"])\n",
    "if \"like\" in translate_dict:\n",
    "    print(translate_dict[\"like\"])"
   ]
  },
  {
   "cell_type": "markdown",
   "metadata": {},
   "source": [
    "<b>3) Make a variable var with the string “I like apples and\n",
    "strawberries”.</b>"
   ]
  },
  {
   "cell_type": "code",
   "execution_count": 43,
   "metadata": {},
   "outputs": [
    {
     "data": {
      "text/plain": [
       "'I like apples and strawberries'"
      ]
     },
     "execution_count": 43,
     "metadata": {},
     "output_type": "execute_result"
    }
   ],
   "source": [
    "var = \"I like apples and strawberries\"\n",
    "var"
   ]
  },
  {
   "cell_type": "markdown",
   "metadata": {},
   "source": [
    "<b>4) Now create a list from var with each word a separate item (this is\n",
    "a string split operation).</b>"
   ]
  },
  {
   "cell_type": "code",
   "execution_count": 44,
   "metadata": {},
   "outputs": [
    {
     "data": {
      "text/plain": [
       "['I', 'like', 'apples', 'and', 'strawberries']"
      ]
     },
     "execution_count": 44,
     "metadata": {},
     "output_type": "execute_result"
    }
   ],
   "source": [
    "var_list = var.split(\" \")\n",
    "var_list"
   ]
  },
  {
   "cell_type": "markdown",
   "metadata": {},
   "source": [
    "<b>5) Iterate through the list you’ve created and replace any word in\n",
    "your dictionary with the translation.</b>"
   ]
  },
  {
   "cell_type": "code",
   "execution_count": 45,
   "metadata": {},
   "outputs": [
    {
     "name": "stdout",
     "output_type": "stream",
     "text": [
      "['Ich', 'mag', 'Äpfel', 'und', 'Erdbeeren']\n"
     ]
    }
   ],
   "source": [
    "for i in range(len(var_list)):\n",
    "    var_list[i] = translate_dict[var_list[i]]\n",
    "print(var_list)"
   ]
  },
  {
   "cell_type": "markdown",
   "metadata": {},
   "source": [
    "<b>6) Now take your new list and turn it into a string with spaces\n",
    "between the words.</b>"
   ]
  },
  {
   "cell_type": "code",
   "execution_count": 46,
   "metadata": {},
   "outputs": [
    {
     "name": "stdout",
     "output_type": "stream",
     "text": [
      "Ich mag Äpfel und Erdbeeren\n"
     ]
    }
   ],
   "source": [
    "print(\" \".join(var_list))"
   ]
  },
  {
   "cell_type": "markdown",
   "metadata": {},
   "source": [
    "<h3>3: Arrays</h3>"
   ]
  },
  {
   "cell_type": "markdown",
   "metadata": {},
   "source": [
    "<b>1) Create an array of zeros of size 8 x 8 and print the data type of\n",
    "the array.</b>"
   ]
  },
  {
   "cell_type": "code",
   "execution_count": 48,
   "metadata": {},
   "outputs": [],
   "source": [
    "import numpy as np"
   ]
  },
  {
   "cell_type": "code",
   "execution_count": 53,
   "metadata": {},
   "outputs": [
    {
     "name": "stdout",
     "output_type": "stream",
     "text": [
      "[[0 0 0 0 0 0 0 0]\n",
      " [0 0 0 0 0 0 0 0]\n",
      " [0 0 0 0 0 0 0 0]\n",
      " [0 0 0 0 0 0 0 0]\n",
      " [0 0 0 0 0 0 0 0]\n",
      " [0 0 0 0 0 0 0 0]\n",
      " [0 0 0 0 0 0 0 0]\n",
      " [0 0 0 0 0 0 0 0]]\n",
      "\n",
      "\n",
      "data type of zero_array is <class 'numpy.ndarray'>\n"
     ]
    }
   ],
   "source": [
    "zero_array = np.zeros((8, 8), dtype=\"int64\")\n",
    "print(zero_array)\n",
    "print(f\"\\n\\ndata type of zero_array is {type(zero_array)}\")"
   ]
  },
  {
   "cell_type": "markdown",
   "metadata": {},
   "source": [
    "<b>2) Fill the array with the numbers 1 to 64 first by row, then by\n",
    "column. You may want to use a for loop inside a for loop to do this.</b>"
   ]
  },
  {
   "cell_type": "code",
   "execution_count": 55,
   "metadata": {},
   "outputs": [
    {
     "name": "stdout",
     "output_type": "stream",
     "text": [
      "[[ 1  2  3  4  5  6  7  8]\n",
      " [ 9 10 11 12 13 14 15 16]\n",
      " [17 18 19 20 21 22 23 24]\n",
      " [25 26 27 28 29 30 31 32]\n",
      " [33 34 35 36 37 38 39 40]\n",
      " [41 42 43 44 45 46 47 48]\n",
      " [49 50 51 52 53 54 55 56]\n",
      " [57 58 59 60 61 62 63 64]]\n"
     ]
    }
   ],
   "source": [
    "counter = 1\n",
    "for i in range(8):\n",
    "    for j in range(8):\n",
    "        zero_array[i][j] = counter\n",
    "        counter+=1\n",
    "print(zero_array)"
   ]
  },
  {
   "cell_type": "markdown",
   "metadata": {},
   "source": [
    "<b>3) Transpose the array.</b>"
   ]
  },
  {
   "cell_type": "code",
   "execution_count": 57,
   "metadata": {},
   "outputs": [
    {
     "name": "stdout",
     "output_type": "stream",
     "text": [
      "[[ 1  9 17 25 33 41 49 57]\n",
      " [ 2 10 18 26 34 42 50 58]\n",
      " [ 3 11 19 27 35 43 51 59]\n",
      " [ 4 12 20 28 36 44 52 60]\n",
      " [ 5 13 21 29 37 45 53 61]\n",
      " [ 6 14 22 30 38 46 54 62]\n",
      " [ 7 15 23 31 39 47 55 63]\n",
      " [ 8 16 24 32 40 48 56 64]]\n"
     ]
    }
   ],
   "source": [
    "print(np.transpose(zero_array))"
   ]
  },
  {
   "cell_type": "markdown",
   "metadata": {},
   "source": [
    "<b>4) Print only the top 4 rows and columns.</b>"
   ]
  },
  {
   "cell_type": "code",
   "execution_count": 63,
   "metadata": {},
   "outputs": [
    {
     "name": "stdout",
     "output_type": "stream",
     "text": [
      "[[ 1  2  3  4]\n",
      " [ 9 10 11 12]\n",
      " [17 18 19 20]\n",
      " [25 26 27 28]]\n"
     ]
    }
   ],
   "source": [
    "print(zero_array[:4, :4])"
   ]
  },
  {
   "cell_type": "markdown",
   "metadata": {},
   "source": [
    "<b>5) Make a 1D array out of your 2D array with the numbers 1 to 64 in\n",
    "order (note the column vs row issue, you may need transposes.)</b>"
   ]
  },
  {
   "cell_type": "code",
   "execution_count": 68,
   "metadata": {},
   "outputs": [
    {
     "name": "stdout",
     "output_type": "stream",
     "text": [
      "[ 1  2  3  4  5  6  7  8  9 10 11 12 13 14 15 16 17 18 19 20 21 22 23 24\n",
      " 25 26 27 28 29 30 31 32 33 34 35 36 37 38 39 40 41 42 43 44 45 46 47 48\n",
      " 49 50 51 52 53 54 55 56 57 58 59 60 61 62 63 64]\n"
     ]
    }
   ],
   "source": [
    "reshape_array = zero_array.reshape((64))\n",
    "print(reshape_array)"
   ]
  },
  {
   "cell_type": "markdown",
   "metadata": {},
   "source": [
    "<b>6) Now take that 1D array you made from before and reshape it back to\n",
    "the original 2D array.</b>"
   ]
  },
  {
   "cell_type": "code",
   "execution_count": 69,
   "metadata": {},
   "outputs": [
    {
     "name": "stdout",
     "output_type": "stream",
     "text": [
      "[[ 1  2  3  4  5  6  7  8]\n",
      " [ 9 10 11 12 13 14 15 16]\n",
      " [17 18 19 20 21 22 23 24]\n",
      " [25 26 27 28 29 30 31 32]\n",
      " [33 34 35 36 37 38 39 40]\n",
      " [41 42 43 44 45 46 47 48]\n",
      " [49 50 51 52 53 54 55 56]\n",
      " [57 58 59 60 61 62 63 64]]\n"
     ]
    }
   ],
   "source": [
    "print(reshape_array.reshape(8, 8))"
   ]
  },
  {
   "cell_type": "markdown",
   "metadata": {},
   "source": [
    "<h3>Part 2: Applications</h3>\n",
    "<h3>1. Word Counts</h3>"
   ]
  },
  {
   "cell_type": "markdown",
   "metadata": {},
   "source": [
    "<b>Word counts are often used in text processing to automatically classify documents by\n",
    "topic. They are also used to automatically measure the “sentiment” by counting, for\n",
    "example, the number of positive or negative words used in the comment or essay. Write\n",
    "code to count the number of unique words in a very large string using the following\n",
    "steps.\n",
    "a) First convert the string to a list with each word a separate item in the list. Hint:\n",
    "use a string split function for your language, and make sure it separates by “ ”.\n",
    "b) Then use a dictionary to associate each word with a count. Note, the dictionary\n",
    "won’t be able to increment a key unless you add it first, so you may have to\n",
    "check to see if it exists before setting the original count of a word to 1.\n",
    "c) Print each word and its count afterwards, and test with an interesting block of text\n",
    "that will have multiple words counted multiple times. (Note, the words don’t have\n",
    "to be in any particular order.)\n",
    "For example: “how much wood would a woodchuck chuck if a woodchuck could chuck\n",
    "wood”\n",
    "Expected output:\n",
    "how - 1\n",
    "much -1\n",
    "wood - 2\n",
    "would - 1\n",
    "a - 2\n",
    "woodchuck - 2\n",
    "chuck - 2\n",
    "if - 1\n",
    "could - 1\n",
    "</b>"
   ]
  },
  {
   "cell_type": "code",
   "execution_count": 72,
   "metadata": {},
   "outputs": [
    {
     "name": "stdout",
     "output_type": "stream",
     "text": [
      "how much wood would a woodchuck chuck if a woodchuck could chuck wood\n"
     ]
    }
   ],
   "source": [
    "var = \"how much wood would a woodchuck chuck if a woodchuck could chuck wood\"\n",
    "print(var)"
   ]
  },
  {
   "cell_type": "code",
   "execution_count": 73,
   "metadata": {},
   "outputs": [
    {
     "name": "stdout",
     "output_type": "stream",
     "text": [
      "['how', 'much', 'wood', 'would', 'a', 'woodchuck', 'chuck', 'if', 'a', 'woodchuck', 'could', 'chuck', 'wood']\n"
     ]
    }
   ],
   "source": [
    "words = var.split(\" \")\n",
    "print(words)"
   ]
  },
  {
   "cell_type": "code",
   "execution_count": 77,
   "metadata": {},
   "outputs": [
    {
     "name": "stdout",
     "output_type": "stream",
     "text": [
      "{'how': 1, 'much': 1, 'wood': 2, 'would': 1, 'a': 2, 'woodchuck': 2, 'chuck': 2, 'if': 1, 'could': 1}\n"
     ]
    }
   ],
   "source": [
    "words_freq = {}\n",
    "for word in words:\n",
    "    if word in words_freq:\n",
    "        words_freq[word]+=1\n",
    "        continue\n",
    "    words_freq[word] = 1\n",
    "print(words_freq)"
   ]
  },
  {
   "cell_type": "code",
   "execution_count": 78,
   "metadata": {},
   "outputs": [
    {
     "name": "stdout",
     "output_type": "stream",
     "text": [
      "how - 1\n",
      "much - 1\n",
      "wood - 2\n",
      "would - 1\n",
      "a - 2\n",
      "woodchuck - 2\n",
      "chuck - 2\n",
      "if - 1\n",
      "could - 1\n"
     ]
    }
   ],
   "source": [
    "for word, freq in words_freq.items():\n",
    "    print(f\"{word} - {freq}\")"
   ]
  },
  {
   "cell_type": "markdown",
   "metadata": {},
   "source": [
    "<h3>2. Adding an Array Border</h3>"
   ]
  },
  {
   "cell_type": "markdown",
   "metadata": {},
   "source": [
    "<b>As we will see later in the class, arrays can be used to represent images. In particular,\n",
    "black and white images can be represented by a 2D array, with one number (usually 0)\n",
    "representing black and another number (usually 1, but sometimes something else)\n",
    "representing white, and gray being everything in between. Here we just want to test\n",
    "your ability to handle a 2D array and add a border (filled with 0's) around it. In code this\n",
    "means creating an array of 0’s of width+2 by height+2 size and copying the original\n",
    "array into the middle appropriately (Note: do not use np.pad() function).\n",
    "Test with an array in the center that has non-zero elements. First print the original array,\n",
    "then print the new array with the added border of 0’s.</b>"
   ]
  },
  {
   "cell_type": "code",
   "execution_count": 90,
   "metadata": {},
   "outputs": [
    {
     "name": "stdout",
     "output_type": "stream",
     "text": [
      "Original Array \n",
      "[[1 1 1 1]\n",
      " [1 1 1 1]\n",
      " [1 1 1 1]]\n",
      "\n",
      "\n",
      "New Array \n",
      " [[0 0 0 0 0 0]\n",
      " [0 1 1 1 1 0]\n",
      " [0 1 1 1 1 0]\n",
      " [0 1 1 1 1 0]\n",
      " [0 0 0 0 0 0]]\n"
     ]
    }
   ],
   "source": [
    "row_size = 3\n",
    "col_size = 4\n",
    "ones_array = np.ones((row_size, col_size), dtype=\"int64\")\n",
    "# print(ones_array)\n",
    "zeros_array = np.zeros((row_size+2, col_size+2), dtype=\"int64\")\n",
    "# print(zeros_array)\n",
    "zeros_array[1:row_size+1, 1:col_size+1] = ones_array\n",
    "print(f\"Original Array \\n{ones_array}\")\n",
    "print(\"\\n\")\n",
    "print(f\"New Array \\n {zeros_array}\")"
   ]
  },
  {
   "cell_type": "markdown",
   "metadata": {},
   "source": [
    "<h3>3. Functions</h3>"
   ]
  },
  {
   "cell_type": "markdown",
   "metadata": {},
   "source": [
    "<b>Encapsulate the previous code into functions. The first function word_count(text)\n",
    "prints each word and its count of text. The second function add_border(array)\n",
    "prints the original array and the new array with the added border of 0’s.</b>"
   ]
  },
  {
   "cell_type": "code",
   "execution_count": 96,
   "metadata": {},
   "outputs": [],
   "source": [
    "def word_count(text):\n",
    "    words = var.split(\" \")\n",
    "#     print(words)\n",
    "    words_freq = {}\n",
    "    for word in words:\n",
    "        if word in words_freq:\n",
    "            words_freq[word]+=1\n",
    "            continue\n",
    "        words_freq[word] = 1\n",
    "#     print(words_freq)\n",
    "    for word, freq in words_freq.items():\n",
    "        print(f\"{word} - {freq}\") "
   ]
  },
  {
   "cell_type": "code",
   "execution_count": 104,
   "metadata": {},
   "outputs": [],
   "source": [
    "def add_border(array):\n",
    "    row_size = array.shape[0]\n",
    "    col_size = array.shape[1]\n",
    "    ones_array = np.ones((row_size, col_size), dtype=\"int64\")\n",
    "    # print(ones_array)\n",
    "    zeros_array = np.zeros((row_size+2, col_size+2), dtype=\"int64\")\n",
    "    # print(zeros_array)\n",
    "    zeros_array[1:row_size+1, 1:col_size+1] = ones_array\n",
    "    print(f\"Original Array \\n{ones_array}\")\n",
    "    print(\"\\n\")\n",
    "    print(f\"New Array \\n {zeros_array}\")"
   ]
  },
  {
   "cell_type": "code",
   "execution_count": 97,
   "metadata": {},
   "outputs": [
    {
     "name": "stdout",
     "output_type": "stream",
     "text": [
      "how - 1\n",
      "much - 1\n",
      "wood - 2\n",
      "would - 1\n",
      "a - 2\n",
      "woodchuck - 2\n",
      "chuck - 2\n",
      "if - 1\n",
      "could - 1\n"
     ]
    }
   ],
   "source": [
    "var = \"how much wood would a woodchuck chuck if a woodchuck could chuck wood\"\n",
    "word_count(var)"
   ]
  },
  {
   "cell_type": "code",
   "execution_count": 105,
   "metadata": {},
   "outputs": [
    {
     "name": "stdout",
     "output_type": "stream",
     "text": [
      "Original Array \n",
      "[[1 1 1 1 1 1]\n",
      " [1 1 1 1 1 1]\n",
      " [1 1 1 1 1 1]\n",
      " [1 1 1 1 1 1]\n",
      " [1 1 1 1 1 1]]\n",
      "\n",
      "\n",
      "New Array \n",
      " [[0 0 0 0 0 0 0 0]\n",
      " [0 1 1 1 1 1 1 0]\n",
      " [0 1 1 1 1 1 1 0]\n",
      " [0 1 1 1 1 1 1 0]\n",
      " [0 1 1 1 1 1 1 0]\n",
      " [0 1 1 1 1 1 1 0]\n",
      " [0 0 0 0 0 0 0 0]]\n"
     ]
    }
   ],
   "source": [
    "add_border(np.ones((5, 6), dtype=\"int64\"))"
   ]
  },
  {
   "cell_type": "code",
   "execution_count": null,
   "metadata": {},
   "outputs": [],
   "source": []
  }
 ],
 "metadata": {
  "kernelspec": {
   "display_name": "Python 3",
   "language": "python",
   "name": "python3"
  },
  "language_info": {
   "codemirror_mode": {
    "name": "ipython",
    "version": 3
   },
   "file_extension": ".py",
   "mimetype": "text/x-python",
   "name": "python",
   "nbconvert_exporter": "python",
   "pygments_lexer": "ipython3",
   "version": "3.8.8"
  }
 },
 "nbformat": 4,
 "nbformat_minor": 4
}
